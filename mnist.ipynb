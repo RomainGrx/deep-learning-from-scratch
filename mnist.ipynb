{
 "cells": [
  {
   "cell_type": "code",
   "execution_count": 1,
   "metadata": {
    "collapsed": true
   },
   "outputs": [],
   "source": [
    "import tensorflow as tf\n",
    "import from_scratch as fs\n",
    "import matplotlib.pyplot as plt\n",
    "import numpy as np\n",
    "\n",
    "\n",
    "mnist = tf.keras.datasets.mnist\n",
    "\n",
    "(X_train, y_train), (X_test, y_test) = mnist.load_data()\n",
    "\n",
    "X_train, X_test = np.divide(X_train, 255.0), np.divide(X_test , 255.0)"
   ]
  },
  {
   "cell_type": "code",
   "execution_count": 2,
   "outputs": [
    {
     "name": "stdout",
     "output_type": "stream",
     "text": [
      "Name                  Input Shape     Output Shape      Nb Parameters\n",
      "--------------------  --------------  --------------  ---------------\n",
      "Flatten               (None, 28, 28)  (None, 784)\n",
      "Dense                 (None, 784)     (None, 300)              235500\n",
      "Activation (relu)\n",
      "Dense                 (None, 300)     (None, 100)               30100\n",
      "Activation (relu)\n",
      "Dense                 (None, 100)     (None, 10)                 1010\n",
      "Activation (softmax)\n",
      "\n",
      "Total parameters : 266610\n",
      "\n"
     ]
    }
   ],
   "source": [
    "model = fs.models.Sequential([\n",
    "    fs.layers.Flatten(input_shape=(28,28,)),\n",
    "    fs.layers.Dense(300, activation='relu'),\n",
    "    fs.layers.Dense(100, activation='relu'),\n",
    "    fs.layers.Dense(10, activation='softmax')\n",
    "])\n",
    "\n",
    "model.compile(\n",
    "    loss = fs.losses.sparse_crossentropy(),\n",
    "    optimizer = fs.optimizers.sgd(lr=1e-3)\n",
    ")\n",
    "\n",
    "print(model.summary())"
   ],
   "metadata": {
    "collapsed": false,
    "pycharm": {
     "name": "#%%\n"
    }
   }
  },
  {
   "cell_type": "code",
   "execution_count": 4,
   "outputs": [
    {
     "name": "stdout",
     "output_type": "stream",
     "text": [
      "Epoch 1/50 : batch 938/Unknown : loss 2.067E-02\r\n",
      "Epoch 2/50 : batch 938/938 : loss 1.681E-02\r\n",
      "Epoch 3/50 : batch 938/938 : loss 1.394E-02\r\n",
      "Epoch 4/50 : batch 938/938 : loss 1.174E-02\r\n",
      "Epoch 5/50 : batch 938/938 : loss 9.988E-03\r\n",
      "Epoch 6/50 : batch 938/938 : loss 8.544E-03\r\n",
      "Epoch 7/50 : batch 938/938 : loss 7.335E-03\r\n",
      "Epoch 8/50 : batch 938/938 : loss 6.312E-03\r\n",
      "Epoch 9/50 : batch 938/938 : loss 5.442E-03\r\n",
      "Epoch 10/50 : batch 938/938 : loss 4.691E-03\r\n",
      "Epoch 11/50 : batch 938/938 : loss 4.042E-03\r\n",
      "Epoch 12/50 : batch 938/938 : loss 3.480E-03\r\n",
      "Epoch 13/50 : batch 938/938 : loss 3.003E-03\r\n",
      "Epoch 14/50 : batch 938/938 : loss 2.593E-03\r\n",
      "Epoch 15/50 : batch 938/938 : loss 2.243E-03\r\n",
      "Epoch 16/50 : batch 938/938 : loss 1.954E-03\r\n",
      "Epoch 17/50 : batch 938/938 : loss 1.705E-03\r\n",
      "Epoch 18/50 : batch 938/938 : loss 1.495E-03\r\n",
      "Epoch 19/50 : batch 938/938 : loss 1.324E-03\r\n",
      "Epoch 20/50 : batch 938/938 : loss 1.177E-03\r\n",
      "Epoch 21/50 : batch 938/938 : loss 1.049E-03\r\n",
      "Epoch 22/50 : batch 938/938 : loss 9.367E-04\r\n",
      "Epoch 23/50 : batch 938/938 : loss 8.366E-04\r\n",
      "Epoch 24/50 : batch 938/938 : loss 7.534E-04\r\n",
      "Epoch 25/50 : batch 938/938 : loss 6.798E-04\r\n",
      "Epoch 26/50 : batch 938/938 : loss 6.184E-04\r\n",
      "Epoch 27/50 : batch 938/938 : loss 5.643E-04\r\n",
      "Epoch 28/50 : batch 938/938 : loss 5.187E-04\r\n",
      "Epoch 29/50 : batch 938/938 : loss 4.780E-04\r\n",
      "Epoch 30/50 : batch 938/938 : loss 4.428E-04\r\n",
      "Epoch 31/50 : batch 938/938 : loss 4.122E-04\r\n",
      "Epoch 32/50 : batch 938/938 : loss 3.846E-04\r\n",
      "Epoch 33/50 : batch 938/938 : loss 3.599E-04\r\n",
      "Epoch 34/50 : batch 938/938 : loss 3.385E-04\r\n",
      "Epoch 35/50 : batch 938/938 : loss 3.188E-04\r\n",
      "Epoch 36/50 : batch 938/938 : loss 3.006E-04\r\n",
      "Epoch 37/50 : batch 938/938 : loss 2.846E-04\r\n",
      "Epoch 38/50 : batch 938/938 : loss 2.699E-04\r\n",
      "Epoch 39/50 : batch 938/938 : loss 2.562E-04\r\n",
      "Epoch 40/50 : batch 938/938 : loss 2.440E-04\r\n",
      "Epoch 41/50 : batch 938/938 : loss 2.327E-04\r\n",
      "Epoch 42/50 : batch 938/938 : loss 2.222E-04\r\n",
      "Epoch 43/50 : batch 938/938 : loss 2.125E-04\r\n",
      "Epoch 44/50 : batch 938/938 : loss 2.036E-04\r\n",
      "Epoch 45/50 : batch 938/938 : loss 1.953E-04\r\n",
      "Epoch 46/50 : batch 938/938 : loss 1.875E-04\r\n",
      "Epoch 47/50 : batch 938/938 : loss 1.802E-04\r\n",
      "Epoch 48/50 : batch 938/938 : loss 1.736E-04\r\n",
      "Epoch 49/50 : batch 938/938 : loss 1.672E-04\r\n",
      "Epoch 50/50 : batch 938/938 : loss 1.614E-04\r\n"
     ]
    }
   ],
   "source": [
    "history = model.fit(X_train, y_train, epochs=50)"
   ],
   "metadata": {
    "collapsed": false,
    "pycharm": {
     "name": "#%%\n"
    }
   }
  },
  {
   "cell_type": "code",
   "execution_count": 6,
   "outputs": [
    {
     "data": {
      "text/plain": "<Figure size 720x432 with 1 Axes>",
      "image/png": "[encoded data removed]"
     },
     "metadata": {
      "needs_background": "light"
     },
     "output_type": "display_data"
    }
   ],
   "source": [
    "plt.figure(figsize=(10, 6))\n",
    "plt.grid(True)\n",
    "plt.title('loss per epoch')\n",
    "plt.xlabel('epoch')\n",
    "plt.ylabel('loss')\n",
    "plt.semilogx(history['epochs'], history['loss'], color='purple')\n",
    "plt.show()"
   ],
   "metadata": {
    "collapsed": false,
    "pycharm": {
     "name": "#%%\n"
    }
   }
  },
  {
   "cell_type": "code",
   "execution_count": 8,
   "outputs": [
    {
     "data": {
      "text/plain": "<Figure size 1080x864 with 1 Axes>",
      "image/png": "[encoded data removed]"
     },
     "metadata": {
      "needs_background": "light"
     },
     "output_type": "display_data"
    }
   ],
   "source": [
    "idx = 2\n",
    "\n",
    "img = X_test[idx]\n",
    "pred = np.argmax(model.forward(X_test[idx:idx+1]), axis=-1)\n",
    "plt.figure(figsize=(15,12))\n",
    "plt.title(f'pred : {str(pred)}  true : {str([y_test[idx]])}')\n",
    "plt.imshow(img)\n",
    "plt.show()"
   ],
   "metadata": {
    "collapsed": false,
    "pycharm": {
     "name": "#%%\n"
    }
   }
  },
  {
   "cell_type": "code",
   "execution_count": 9,
   "outputs": [
    {
     "name": "stdout",
     "output_type": "stream",
     "text": [
      "Accuracy on the test set : 0.9812\n"
     ]
    }
   ],
   "source": [
    "y_pred = model.forward(X_test)\n",
    "\n",
    "y_idx = np.argmax(y_pred, axis=-1)\n",
    "mask = np.equal(y_test, y_idx)\n",
    "accuracy = sum(mask)/len(mask)\n",
    "\n",
    "print(f'Accuracy on the test set : {accuracy}')"
   ],
   "metadata": {
    "collapsed": false,
    "pycharm": {
     "name": "#%%\n"
    }
   }
  },
  {
   "cell_type": "code",
   "execution_count": null,
   "outputs": [],
   "source": [
    "\n"
   ],
   "metadata": {
    "collapsed": false,
    "pycharm": {
     "name": "#%%\n"
    }
   }
  }
 ],
 "metadata": {
  "kernelspec": {
   "display_name": "Python 3",
   "language": "python",
   "name": "python3"
  },
  "language_info": {
   "codemirror_mode": {
    "name": "ipython",
    "version": 2
   },
   "file_extension": ".py",
   "mimetype": "text/x-python",
   "name": "python",
   "nbconvert_exporter": "python",
   "pygments_lexer": "ipython2",
   "version": "2.7.6"
  }
 },
 "nbformat": 4,
 "nbformat_minor": 0
}