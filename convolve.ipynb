{
 "cells": [
  {
   "cell_type": "code",
   "execution_count": 1,
   "metadata": {
    "collapsed": true
   },
   "outputs": [],
   "source": [
    "import from_scratch as fs"
   ]
  },
  {
   "cell_type": "code",
   "execution_count": 2,
   "outputs": [
    {
     "name": "stdout",
     "output_type": "stream",
     "text": [
      "+------------+-------------------+--------------------+---------------+\n",
      "| Layer Name |    Input Shape    |    Output Shape    | Nb Parameters |\n",
      "+------------+-------------------+--------------------+---------------+\n",
      "|   Conv2D   | (None, 28, 28, 1) | (None, 10, 26, 26) |      100      |\n",
      "+------------+-------------------+--------------------+---------------+\n",
      "Total parameters : 100\n"
     ]
    }
   ],
   "source": [
    "model = fs.models.Sequential([\n",
    "    fs.layers.Conv2D(10, (3,3), input_shape=(28,28,1), padding='valid')\n",
    "])\n",
    "\n",
    "print(model.summary())"
   ],
   "metadata": {
    "collapsed": false,
    "pycharm": {
     "name": "#%%\n"
    }
   }
  },
  {
   "cell_type": "code",
   "execution_count": 3,
   "outputs": [
    {
     "name": "stdout",
     "output_type": "stream",
     "text": [
      "(666, 10, 26, 26)\n"
     ]
    }
   ],
   "source": [
    "import numpy as np\n",
    "\n",
    "out = model.forward(np.random.rand(666,28,28,1))\n",
    "print(out.shape)"
   ],
   "metadata": {
    "collapsed": false,
    "pycharm": {
     "name": "#%%\n"
    }
   }
  }
 ],
 "metadata": {
  "kernelspec": {
   "name": "python3",
   "language": "python",
   "display_name": "Python 3"
  },
  "language_info": {
   "codemirror_mode": {
    "name": "ipython",
    "version": 2
   },
   "file_extension": ".py",
   "mimetype": "text/x-python",
   "name": "python",
   "nbconvert_exporter": "python",
   "pygments_lexer": "ipython2",
   "version": "2.7.6"
  }
 },
 "nbformat": 4,
 "nbformat_minor": 0
}